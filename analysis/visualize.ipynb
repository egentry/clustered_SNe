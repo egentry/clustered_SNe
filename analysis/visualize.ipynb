{
 "cells": [
  {
   "cell_type": "code",
   "execution_count": null,
   "metadata": {},
   "outputs": [],
   "source": [
    "%matplotlib inline\n",
    "import matplotlib as mpl\n",
    "import numpy as np\n",
    "\n",
    "import os, sys\n",
    "import glob\n",
    "import numpy as np\n",
    "import pandas as pd\n",
    "\n",
    "import matplotlib.pyplot as plt\n",
    "import ipywidgets as widgets\n",
    "from ipywidgets import interact, interactive, interact_manual\n",
    "from ipywidgets import RadioButtons, fixed \n",
    "\n",
    "import seaborn as sns\n",
    "sns.set(context=\"poster\", font_scale=1.5, style=\"ticks\")\n",
    "\n",
    "\n",
    "## import from local files\n",
    "\n",
    "## Boilerplate path hack to give access to full clustered_SNe package\n",
    "import sys, os\n",
    "if __package__ is None:\n",
    "    if os.pardir not in sys.path[0]:\n",
    "        file_dir = os.getcwd()\n",
    "        sys.path.insert(0, os.path.join(file_dir, \n",
    "                                        os.pardir, \n",
    "                                        os.pardir))\n",
    "\n",
    "from clustered_SNe import data_dir_default\n",
    "from clustered_SNe.analysis.constants import m_proton, pc, yr, M_solar, \\\n",
    "                                   gamma, E_0, metallicity_solar\n",
    "from clustered_SNe.analysis.sedov.dimensionalize_sedov import dimensionalized_sedov\n",
    "from clustered_SNe.analysis.sedov.closed_form_sedov import SedovSolution\n",
    "from clustered_SNe.analysis.parse import RunSummary, Overview, cols\n",
    "from clustered_SNe.analysis.visualize_helpers import single_run, \\\n",
    "                                                     conduction_comparisons, \\\n",
    "                                                     SNe_distplot, \\\n",
    "                                                     plot_zones, \\\n",
    "                                                     plot_shock_location, \\\n",
    "                                                     plot_energy, \\\n",
    "                                                     plot_momentum, \\\n",
    "                                                     plot_luminosity\n",
    "\n",
    "        \n",
    "# Holds the most recent run, if more analysis is desired\n",
    "run_summary = RunSummary()    "
   ]
  },
  {
   "cell_type": "code",
   "execution_count": null,
   "metadata": {},
   "outputs": [],
   "source": [
    "mpl.rcParams['savefig.dpi'] = 80*2\n",
    "mpl.rcParams['figure.dpi'] = 80*2\n",
    "mpl.rcParams['figure.figsize'] = np.array((10,6))*1.5\n",
    "mpl.rcParams['figure.facecolor'] = \"white\""
   ]
  },
  {
   "cell_type": "code",
   "execution_count": null,
   "metadata": {},
   "outputs": [],
   "source": [
    "from IPython.core.display import display, HTML\n",
    "\n",
    "\n",
    "if widgets.version_info[0]==5:\n",
    "    display(HTML(\"\"\"\n",
    "    <style>\n",
    "    .widget-hbox .widget-label { min-width: 225px; }\n",
    "    .widget-text { width: 600px; }\n",
    "    .widget-hslider { width: 600px; }\n",
    "    .widget-checkbox { width: 480px; }\n",
    "    </style>\"\"\"))"
   ]
  },
  {
   "cell_type": "code",
   "execution_count": null,
   "metadata": {
    "scrolled": false
   },
   "outputs": [],
   "source": [
    "data_dir = \"../src/turbulent-conduction-11-1e0-hires\"\n",
    "# data_dir = data_dir_default\n",
    "\n",
    "# reference\n",
    "# ../src/turbulent_11-1e0-better_cooling_units\n",
    "# no cooling\n",
    "# ../src/turbulent_11-1e0-adiabatic\n",
    "# no turb \n",
    "# ../src/turbulent_11-1e0-no_turb\n",
    "# no amr\n",
    "# ../src/turbulent_11-1e0-better_cooling_units-no_amr\n",
    "\n",
    "# you don't need the full uuid, just enough to distinguish it\n",
    "id_default = \"\"\n",
    "\n",
    "result_widget = interact_manual(single_run,\n",
    "                                data_dir = widgets.Text(data_dir),\n",
    "                                id = widgets.Text(id_default))\n",
    "def update_run_summary_single_run(widget):\n",
    "    \"\"\"Copy the latest result into run_summary\n",
    "    \n",
    "    Don't reuse this function definition; needs to be bound to the correct result_widget\"\"\"\n",
    "    run_summary.replace_with(result_widget.widget.result)\n",
    "result_widget.widget.children[0].on_submit(update_run_summary_single_run)\n",
    "result_widget.widget.children[1].on_submit(update_run_summary_single_run)\n",
    "result_widget.widget.children[2].on_click( update_run_summary_single_run)\n",
    "\n"
   ]
  },
  {
   "cell_type": "code",
   "execution_count": null,
   "metadata": {},
   "outputs": [],
   "source": []
  },
  {
   "cell_type": "code",
   "execution_count": null,
   "metadata": {},
   "outputs": [],
   "source": [
    "run_summary.times[456:461] / (yr * 1e6)"
   ]
  },
  {
   "cell_type": "code",
   "execution_count": null,
   "metadata": {},
   "outputs": [],
   "source": [
    "run_summary.E_tot[456:461]"
   ]
  },
  {
   "cell_type": "code",
   "execution_count": null,
   "metadata": {},
   "outputs": [],
   "source": [
    "run_summary.times[-10:] / (1e6*yr)"
   ]
  },
  {
   "cell_type": "code",
   "execution_count": null,
   "metadata": {
    "scrolled": false
   },
   "outputs": [],
   "source": [
    "@interact(k=(0,run_summary.times.size-1,1))\n",
    "def show(k):\n",
    "    i_low = np.searchsorted( run_summary.df.loc[k].Radius, run_summary.R_shock[k]/pc*(1 - .25))[0]\n",
    "    i_high = np.searchsorted( run_summary.df.loc[k].Radius, run_summary.R_shock[k]/pc*(1 + .25))[0]\n",
    "\n",
    "\n",
    "    plt.plot( run_summary.df.loc[k].Radius.loc[i_low:i_high], run_summary.df.loc[k].Pressure.loc[i_low:i_high] )\n",
    "\n",
    "\n",
    "    plt.yscale(\"log\")\n",
    "    plt.xlabel(\"Radius [pc]\")\n",
    "    plt.ylabel(\"Pressure [cgs units]\")\n"
   ]
  },
  {
   "cell_type": "code",
   "execution_count": null,
   "metadata": {},
   "outputs": [],
   "source": [
    "print(run_summary.first_unreasonable_energy())\n",
    "print(run_summary.is_time_resolved())\n",
    "print(run_summary.is_converged())"
   ]
  },
  {
   "cell_type": "code",
   "execution_count": null,
   "metadata": {},
   "outputs": [],
   "source": [
    "plot_zones(run_summary)"
   ]
  },
  {
   "cell_type": "code",
   "execution_count": null,
   "metadata": {
    "scrolled": false
   },
   "outputs": [],
   "source": [
    "plot_shock_location(run_summary)"
   ]
  },
  {
   "cell_type": "code",
   "execution_count": null,
   "metadata": {},
   "outputs": [],
   "source": [
    "Myr = 1e6*yr\n",
    "km = 1000 * 100\n",
    "s = 1\n",
    "\n",
    "c_s = run_summary.df.iloc[-1].C_ad\n",
    "\n",
    "v_shock = np.diff(run_summary.R_shock) / np.diff(run_summary.times)\n",
    "v_shock[v_shock<1] = 1\n",
    "plt.plot(run_summary.times[1:] / Myr, v_shock / (km /s ),\n",
    "         label=\"simulation\")\n",
    "\n",
    "plt.axhline(c_s / (km / s), \n",
    "            linestyle=\"dotted\", color=\"red\",\n",
    "            label=\"$c_s$ (final)\")\n",
    "\n",
    "plt.axvline(run_summary.times[run_summary.momentum.argmax()] / Myr,\n",
    "            linestyle=\"dashed\", color=\"black\",\n",
    "            label=\"Time of Max Momentum\")\n",
    "\n",
    "plt.legend(loc=\"best\")\n",
    "\n",
    "plt.yscale(\"log\")\n",
    "\n",
    "plt.xlabel(\"t [Myr]\")\n",
    "plt.ylabel(\"$v_\\mathrm{shock}$ [km s$^{-1}$]\")\n",
    "\n",
    "plt.ylim(bottom=.1)\n",
    "\n",
    "sns.rugplot(run_summary.overview.SNe_times / Myr, color=\"black\", linewidth=3)"
   ]
  },
  {
   "cell_type": "code",
   "execution_count": null,
   "metadata": {
    "scrolled": true
   },
   "outputs": [],
   "source": [
    "_ = interact(plot_energy,\n",
    "         run_summary=fixed(run_summary),\n",
    "         x_axis = RadioButtons(options=[\"time\", \"checkpoints\"]))"
   ]
  },
  {
   "cell_type": "code",
   "execution_count": null,
   "metadata": {},
   "outputs": [],
   "source": [
    "def plot_energy_tmp(run_summary, x_axis):\n",
    "    plt.figure()\n",
    "    \n",
    "    if x_axis == \"time\":\n",
    "        x_variable = run_summary.times / yr\n",
    "        xlabel = \"Time [yr]\"\n",
    "        xscale = \"linear\"\n",
    "        plt.xscale(xscale)\n",
    "        xfmt = plt.gca().get_xaxis().get_major_formatter() # needs to be set AFTER plt.xscale()\n",
    "        if xscale == \"log\":\n",
    "            mask = x_variable > 1\n",
    "        elif xscale == \"linear\":\n",
    "            mask = np.full_like(x_variable, True, dtype=bool) \n",
    "            xfmt.set_powerlimits((-2, 2)) # force scientific notation outside this range\n",
    "\n",
    "    elif x_axis == \"checkpoints\":\n",
    "        x_variable = np.arange(len(run_summary.times))\n",
    "        xlabel = \"Checkpoint\"\n",
    "        xscale = \"linear\"\n",
    "        mask = np.full_like(x_variable, True, dtype=bool) \n",
    "\n",
    "        plt.xscale(xscale)\n",
    "        xfmt = plt.gca().get_xaxis().get_major_formatter() # needs to be set AFTER plt.xscale()\n",
    "\n",
    "    else:\n",
    "        raise NotImplementedError(\"can't recognize x_axis value: \" + x_axis)\n",
    "\n",
    "\n",
    "    plt.plot(x_variable[mask], run_summary.E_tot[mask], label=\"E_tot\" )\n",
    "#     plt.plot(x_variable[mask], run_summary.E_kin[mask], label=\"E_kin\" )\n",
    "#     plt.plot(x_variable[mask], run_summary.E_int[mask], label=\"E_int\" )\n",
    "    plt.legend(loc=\"best\")\n",
    "    plt.xscale(xscale)\n",
    "    plt.xlabel(xlabel) \n",
    "    plt.gca().xaxis.set_major_formatter(xfmt)\n",
    "    plt.ylabel(\"Energy [erg]\")\n",
    "    SNe_distplot(run_summary, x_axis)\n",
    "\n",
    "\n",
    "    if x_axis == \"checkpoints\":\n",
    "        plt.xlim(left=0)\n",
    "        \n",
    "plot_energy_tmp(run_summary, \"time\")\n",
    "plt.xlim(\n",
    "    left=4e6,\n",
    "    right=4.2e6)\n",
    "\n",
    "plt.axvline(1.28146e+14 / yr, linestyle=\"dashed\", color=\"black\")\n",
    "plt.ylim(top=3.6e51, bottom=2.9e51)\n",
    "# plt.ylim(top=3.305e51, bottom=3.304e51)\n",
    "\n"
   ]
  },
  {
   "cell_type": "code",
   "execution_count": null,
   "metadata": {},
   "outputs": [],
   "source": [
    "plot_energy_tmp(run_summary, \"time\")\n",
    "plt.xlim(\n",
    "#     left=4e6,\n",
    "    right=5e6,\n",
    ")\n",
    "\n",
    "# plt.axvline(1.28146e+14 / yr, linestyle=\"dashed\", color=\"black\")\n",
    "# plt.ylim(top=3.6e51, bottom=2.9e51)\n",
    "# plt.ylim(top=3.305e51, bottom=3.304e51)\n"
   ]
  },
  {
   "cell_type": "code",
   "execution_count": null,
   "metadata": {
    "scrolled": false
   },
   "outputs": [],
   "source": [
    "_ = interact(plot_momentum,\n",
    "         run_summary=fixed(run_summary),\n",
    "         x_axis = RadioButtons(options=[\"time\", \"checkpoints\"]),\n",
    "         clear_previous=fixed(True),\n",
    "         distplot=fixed(True),\n",
    "         y_axis_scaling=fixed(\"SNe\"),\n",
    "         plot_times_in_Myr=fixed(True),\n",
    "         with_momentum_axvline=fixed(True),\n",
    "         label=fixed(\"\"))"
   ]
  },
  {
   "cell_type": "code",
   "execution_count": null,
   "metadata": {
    "scrolled": false
   },
   "outputs": [],
   "source": [
    "_ = interact(plot_luminosity,\n",
    "         run_summary=fixed(run_summary),\n",
    "         x_axis = RadioButtons(options=[\"time\", \"checkpoints\"]))\n"
   ]
  },
  {
   "cell_type": "code",
   "execution_count": null,
   "metadata": {},
   "outputs": [],
   "source": []
  }
 ],
 "metadata": {
  "anaconda-cloud": {},
  "kernelspec": {
   "display_name": "Python 3",
   "language": "python",
   "name": "python3"
  },
  "language_info": {
   "codemirror_mode": {
    "name": "ipython",
    "version": 3
   },
   "file_extension": ".py",
   "mimetype": "text/x-python",
   "name": "python",
   "nbconvert_exporter": "python",
   "pygments_lexer": "ipython3",
   "version": "3.7.1"
  },
  "widgets": {
   "state": {},
   "version": "1.1.2"
  }
 },
 "nbformat": 4,
 "nbformat_minor": 1
}
