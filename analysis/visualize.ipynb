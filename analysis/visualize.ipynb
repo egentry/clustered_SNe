{
 "cells": [
  {
   "cell_type": "code",
   "execution_count": null,
   "metadata": {},
   "outputs": [],
   "source": [
    "%matplotlib inline\n",
    "\n",
    "import os, sys\n",
    "import glob\n",
    "import numpy as np\n",
    "import pandas as pd\n",
    "import matplotlib.pyplot as plt\n",
    "import ipywidgets as widgets\n",
    "from ipywidgets import interact, interactive, interact_manual\n",
    "from ipywidgets import RadioButtons, fixed \n",
    "\n",
    "import seaborn as sns\n",
    "sns.set(context=\"poster\", font_scale=1.5)\n",
    "\n",
    "\n",
    "## import from local files\n",
    "\n",
    "## Boilerplate path hack to give access to full clustered_SNe package\n",
    "import sys, os\n",
    "if __package__ is None:\n",
    "    if os.pardir not in sys.path[0]:\n",
    "        file_dir = os.getcwd()\n",
    "        sys.path.insert(0, os.path.join(file_dir, \n",
    "                                        os.pardir, \n",
    "                                        os.pardir))\n",
    "\n",
    "from clustered_SNe import data_dir_default\n",
    "from clustered_SNe.analysis.constants import m_proton, pc, yr, M_solar, \\\n",
    "                                   gamma, E_0, metallicity_solar\n",
    "from clustered_SNe.analysis.sedov.dimensionalize_sedov import dimensionalized_sedov\n",
    "from clustered_SNe.analysis.sedov.closed_form_sedov import SedovSolution\n",
    "from clustered_SNe.analysis.parse import RunSummary, Overview, cols\n",
    "from clustered_SNe.analysis.visualize_helpers import single_run, \\\n",
    "                                                     conduction_comparisons, \\\n",
    "                                                     SNe_distplot, \\\n",
    "                                                     plot_zones, \\\n",
    "                                                     plot_shock_location, \\\n",
    "                                                     plot_energy, \\\n",
    "                                                     plot_momentum, \\\n",
    "                                                     plot_luminosity\n",
    "\n",
    "        \n",
    "# Holds the most recent run, if more analysis is desired\n",
    "run_summary = RunSummary()    "
   ]
  },
  {
   "cell_type": "code",
   "execution_count": null,
   "metadata": {},
   "outputs": [],
   "source": [
    "import matplotlib as mpl\n",
    "mpl.rcParams['savefig.dpi'] = 80*2\n",
    "mpl.rcParams['figure.dpi'] = 80*2\n",
    "mpl.rcParams['figure.figsize'] = np.array((10,6))*1.5\n",
    "mpl.rcParams['figure.facecolor'] = \"white\""
   ]
  },
  {
   "cell_type": "code",
   "execution_count": null,
   "metadata": {},
   "outputs": [],
   "source": [
    "from IPython.core.display import display, HTML\n",
    "\n",
    "\n",
    "if widgets.version_info[0]==5:\n",
    "    display(HTML(\"\"\"\n",
    "    <style>\n",
    "    .widget-hbox .widget-label { min-width: 225px; }\n",
    "    .widget-text { width: 600px; }\n",
    "    .widget-hslider { width: 600px; }\n",
    "    .widget-checkbox { width: 480px; }\n",
    "    </style>\"\"\"))"
   ]
  },
  {
   "cell_type": "code",
   "execution_count": null,
   "metadata": {
    "scrolled": false
   },
   "outputs": [],
   "source": [
    "data_dir = \"../src/\"\n",
    "data_dir = data_dir_default\n",
    "\n",
    "\n",
    "# you don't need the full uuid, just enough to distinguish it\n",
    "id_default = \"\"\n",
    "\n",
    "result_widget = interact_manual(single_run,\n",
    "                                data_dir = widgets.Text(data_dir),\n",
    "                                id = widgets.Text(id_default))\n",
    "def update_run_summary_single_run(widget):\n",
    "    \"\"\"Copy the latest result into run_summary\n",
    "    \n",
    "    Don't reuse this function definition; needs to be bound to the correct result_widget\"\"\"\n",
    "    run_summary.replace_with(result_widget.widget.result)\n",
    "result_widget.widget.children[0].on_submit(update_run_summary_single_run)\n",
    "result_widget.widget.children[1].on_submit(update_run_summary_single_run)\n",
    "result_widget.widget.children[2].on_click( update_run_summary_single_run)\n",
    "\n"
   ]
  },
  {
   "cell_type": "code",
   "execution_count": null,
   "metadata": {},
   "outputs": [],
   "source": [
    "@interact(k=(0,run_summary.times.size-1,1))\n",
    "def show(k):\n",
    "    i_low = np.searchsorted( run_summary.df.loc[k].Radius, run_summary.R_shock[k]/pc*(1 - .25))[0]\n",
    "    i_high = np.searchsorted( run_summary.df.loc[k].Radius, run_summary.R_shock[k]/pc*(1 + .25))[0]\n",
    "\n",
    "\n",
    "    plt.plot( run_summary.df.loc[k].Radius.loc[i_low:i_high], run_summary.df.loc[k].Pressure.loc[i_low:i_high] )\n",
    "\n",
    "\n",
    "    plt.yscale(\"log\")\n",
    "    plt.xlabel(\"Radius [pc]\")\n",
    "    plt.ylabel(\"Pressure [cgs units]\")\n"
   ]
  },
  {
   "cell_type": "code",
   "execution_count": null,
   "metadata": {},
   "outputs": [],
   "source": [
    "print(run_summary.first_unreasonable_energy())\n",
    "print(run_summary.is_time_resolved())\n",
    "print(run_summary.is_converged())"
   ]
  },
  {
   "cell_type": "code",
   "execution_count": null,
   "metadata": {},
   "outputs": [],
   "source": [
    "np.argmax(run_summary.momentum)"
   ]
  },
  {
   "cell_type": "code",
   "execution_count": null,
   "metadata": {},
   "outputs": [],
   "source": [
    "len(run_summary.momentum)"
   ]
  },
  {
   "cell_type": "code",
   "execution_count": null,
   "metadata": {},
   "outputs": [],
   "source": [
    "plot_zones(run_summary)"
   ]
  },
  {
   "cell_type": "code",
   "execution_count": null,
   "metadata": {
    "scrolled": false
   },
   "outputs": [],
   "source": [
    "plot_shock_location(run_summary)"
   ]
  },
  {
   "cell_type": "code",
   "execution_count": null,
   "metadata": {
    "scrolled": false
   },
   "outputs": [],
   "source": [
    "_ = interact(plot_energy,\n",
    "         run_summary=fixed(run_summary),\n",
    "         x_axis = RadioButtons(options=[\"time\", \"checkpoints\"]))"
   ]
  },
  {
   "cell_type": "code",
   "execution_count": null,
   "metadata": {
    "scrolled": false
   },
   "outputs": [],
   "source": [
    "_ = interact(plot_momentum,\n",
    "         run_summary=fixed(run_summary),\n",
    "         x_axis = RadioButtons(options=[\"time\", \"checkpoints\"]),\n",
    "         clear_previous=fixed(True),\n",
    "         distplot=fixed(True),\n",
    "         y_axis_scaling=fixed(\"SNe\"),\n",
    "         plot_times_in_Myr=fixed(True),\n",
    "         with_momentum_axvline=fixed(True),\n",
    "         label=fixed(\"\"))"
   ]
  },
  {
   "cell_type": "code",
   "execution_count": null,
   "metadata": {
    "scrolled": false
   },
   "outputs": [],
   "source": [
    "_ = interact(plot_luminosity,\n",
    "         run_summary=fixed(run_summary),\n",
    "         x_axis = RadioButtons(options=[\"time\", \"checkpoints\"]))\n"
   ]
  }
 ],
 "metadata": {
  "kernelspec": {
   "display_name": "Python 3",
   "language": "python",
   "name": "python3"
  },
  "language_info": {
   "codemirror_mode": {
    "name": "ipython",
    "version": 3
   },
   "file_extension": ".py",
   "mimetype": "text/x-python",
   "name": "python",
   "nbconvert_exporter": "python",
   "pygments_lexer": "ipython3",
   "version": "3.7.1"
  },
  "widgets": {
   "state": {},
   "version": "1.1.2"
  }
 },
 "nbformat": 4,
 "nbformat_minor": 1
}
